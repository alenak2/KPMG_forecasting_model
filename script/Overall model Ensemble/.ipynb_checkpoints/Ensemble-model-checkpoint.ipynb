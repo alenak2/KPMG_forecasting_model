{
 "cells": [
  {
   "cell_type": "code",
   "execution_count": 1,
   "metadata": {},
   "outputs": [],
   "source": [
    "# KPMG Forecasting Project\n",
    "# Ensemble Technique\n",
    "# Author: Kushal Wijesundara"
   ]
  },
  {
   "cell_type": "code",
   "execution_count": null,
   "metadata": {
    "id": "Rgw7PL1nkV75"
   },
   "outputs": [],
   "source": [
    "import numpy as np\n",
    "import pandas as pd\n",
    "import datetime \n",
    "from functools import reduce\n",
    "import matplotlib.pyplot as plt\n",
    "date = '2003-09-01'\n",
    "window = 72"
   ]
  },
  {
   "cell_type": "markdown",
   "metadata": {},
   "source": [
    "### Load short-term data"
   ]
  },
  {
   "cell_type": "code",
   "execution_count": 3,
   "metadata": {},
   "outputs": [],
   "source": [
    "ST01 = pd.read_csv('one_month_prediction.csv').iloc[:,1:].set_index('ds')[date:]\n",
    "ST02 = pd.read_csv('two_month_prediction.csv').iloc[:,1:].set_index('ds')[date:]\n",
    "ST03 = pd.read_csv('three_month_prediction.csv').iloc[:,1:].set_index('ds')[date:]\n",
    "ST04 = pd.read_csv('four_month_prediction.csv').iloc[:,1:].set_index('ds')[date:]\n",
    "ST05 = pd.read_csv('five_month_prediction.csv').iloc[:,1:].set_index('ds')[date:]\n",
    "ST06 = pd.read_csv('six_month_prediction.csv').iloc[:,1:].set_index('ds')[date:]\n",
    "ST07 = pd.read_csv('seven_month_prediction.csv').iloc[:,1:].set_index('ds')[date:]\n",
    "ST08 = pd.read_csv('eight_month_prediction.csv').iloc[:,1:].set_index('ds')[date:]\n",
    "ST09 = pd.read_csv('nine_month_prediction.csv').iloc[:,1:].set_index('ds')[date:]\n",
    "ST10 = pd.read_csv('ten_month_prediction.csv').iloc[:,1:].set_index('ds')[date:]\n",
    "ST11 = pd.read_csv('eleven_month_prediction.csv').iloc[:,1:].set_index('ds')[date:]\n",
    "ST12 = pd.read_csv('twelve_month_prediction.csv').iloc[:,1:].set_index('ds')[date:]\n",
    "STsec = ST01\n",
    "STsec.reset_index(inplace=True)"
   ]
  },
  {
   "cell_type": "markdown",
   "metadata": {},
   "source": [
    "### Load long-term data for sector models"
   ]
  },
  {
   "cell_type": "code",
   "execution_count": 4,
   "metadata": {},
   "outputs": [],
   "source": [
    "LTsec1 = pd.read_csv('LTsec1.csv')\n",
    "LTsec2 = pd.read_csv('LTsec2.csv')\n",
    "LTsec3 = pd.read_csv('LTsec3.csv')\n",
    "LTsec4 = pd.read_csv('LTsec4.csv')\n",
    "LTsec5 = pd.read_csv('LTsec5.csv')\n",
    "LTsec6 = pd.read_csv('LTsec6.csv')\n",
    "LTsec7 = pd.read_csv('LTsec7.csv')\n",
    "LTsec8 = pd.read_csv('LTsec8.csv')\n",
    "LTsec9 = pd.read_csv('LTsec9.csv')\n",
    "LTsec10 = pd.read_csv('LTsec10.csv')\n",
    "LTsec11 = pd.read_csv('LTsec11.csv')\n",
    "LTsec12 = pd.read_csv('LTsec12.csv')\n",
    "LTsec = pd.concat([LTsec1,LTsec2,LTsec3,LTsec4,LTsec5,LTsec6,LTsec7,LTsec8,LTsec9,LTsec10,LTsec11,LTsec12]).sort_values(by='date')\n",
    "LTsec.reset_index(drop=True, inplace=True)\n",
    "LTsec = pd.concat([STsec, LTsec], axis=1)\n",
    "LTsec = LTsec[['ds','EPS_10YR','EPS_10YR_pred']].rename(columns={'ds': 'date'}).set_index('date')"
   ]
  },
  {
   "cell_type": "markdown",
   "metadata": {},
   "source": [
    "### Define ensemble model generators"
   ]
  },
  {
   "cell_type": "code",
   "execution_count": 5,
   "metadata": {},
   "outputs": [],
   "source": [
    "# n=1: only ST Model effect\n",
    "def generate_Ensemble(ST,t,n):\n",
    "  ST.index = pd.to_datetime(ST.index)\n",
    "  ST = ST.iloc[t::18, :]\n",
    "  ST = ST.rename(columns={'ds': 'date','yhat': 'ST_EPS_10YR_pred', 'y': 'EPS_10YR'})\n",
    "  Ensemble = ST.assign(Ensemble_pred=lambda x: ST['ST_EPS_10YR_pred']*n)\n",
    "  Ensemble = Ensemble[['EPS_10YR','Ensemble_pred']]\n",
    "  return Ensemble"
   ]
  },
  {
   "cell_type": "code",
   "execution_count": 6,
   "metadata": {},
   "outputs": [],
   "source": [
    "EN01 = generate_Ensemble(ST01,0,1)\n",
    "EN02 = generate_Ensemble(ST02,1,1)\n",
    "EN03 = generate_Ensemble(ST03,2,1)\n",
    "EN04 = generate_Ensemble(ST04,3,1)\n",
    "EN05 = generate_Ensemble(ST05,4,1)\n",
    "EN06 = generate_Ensemble(ST05,5,1)"
   ]
  },
  {
   "cell_type": "code",
   "execution_count": 7,
   "metadata": {
    "id": "a76jbDLZIbyD"
   },
   "outputs": [],
   "source": [
    "# n>0.5: more ST Model effect\n",
    "# n<0.5: more lT Model effect\n",
    "def generate_Ensemble(ST, LT, t, n):\n",
    "  ST.index = pd.to_datetime(ST.index)\n",
    "  #LT.index = pd.to_datetime(LT.index)\n",
    "  STLT = pd.concat([ST, LT], axis=1)\n",
    "  STLT = STLT.iloc[t::18, :]\n",
    "  STLT = STLT.rename(columns={'yhat': 'ST_EPS_10YR_pred', 'EPS_10YR_pred': 'LT_EPS_10YR_pred'})\n",
    "  Ensemble = STLT.assign(Ensemble_pred=lambda x: STLT['ST_EPS_10YR_pred']*(n) +  STLT['LT_EPS_10YR_pred']*(1-n))\n",
    "  Ensemble = Ensemble[['EPS_10YR','Ensemble_pred']].dropna()\n",
    "  return Ensemble"
   ]
  },
  {
   "cell_type": "code",
   "execution_count": 8,
   "metadata": {},
   "outputs": [],
   "source": [
    "# systematically change n (0<= n <= 1)to minimize error metric and observe EPS Actual Vs Forecast plot\n",
    "EN07 = generate_Ensemble(ST07, LTsec, 6, 0.6)\n",
    "EN08 = generate_Ensemble(ST08, LTsec, 7, 0.5)\n",
    "EN09 = generate_Ensemble(ST09, LTsec, 8, 0.4)\n",
    "EN10 = generate_Ensemble(ST10, LTsec, 9, 0)\n",
    "EN11 = generate_Ensemble(ST11, LTsec, 10, 0)\n",
    "EN12 = generate_Ensemble(ST12, LTsec, 11, 0)"
   ]
  },
  {
   "cell_type": "code",
   "execution_count": 9,
   "metadata": {},
   "outputs": [],
   "source": [
    "# n=1: only lT Model effect\n",
    "def generate_Ensemble(LT, t, n):\n",
    "  #LT.index = pd.to_datetime(LT.index)\n",
    "  LT = LT.iloc[t::18, :]\n",
    "  LT = LT.rename(columns={'EPS_10YR_pred': 'LT_EPS_10YR_pred'})\n",
    "  Ensemble = LT.assign(Ensemble_pred=lambda x: LT['LT_EPS_10YR_pred']*n)\n",
    "  Ensemble = Ensemble[['EPS_10YR','Ensemble_pred']]\n",
    "  return Ensemble"
   ]
  },
  {
   "cell_type": "code",
   "execution_count": 10,
   "metadata": {},
   "outputs": [],
   "source": [
    "EN13 = generate_Ensemble(LTsec,12,1)\n",
    "EN14 = generate_Ensemble(LTsec,13,1)\n",
    "EN15 = generate_Ensemble(LTsec,14,1)\n",
    "EN16 = generate_Ensemble(LTsec,15,1)\n",
    "EN17 = generate_Ensemble(LTsec,16,1)\n",
    "EN18 = generate_Ensemble(LTsec,17,1)"
   ]
  },
  {
   "cell_type": "markdown",
   "metadata": {},
   "source": [
    "### Combine weighted data and generate overall ensemble result"
   ]
  },
  {
   "cell_type": "code",
   "execution_count": 11,
   "metadata": {},
   "outputs": [],
   "source": [
    "EN = pd.concat([EN01,EN02,EN03,EN04,EN05,EN06,EN07,EN08,EN09,EN10,EN11,EN12,EN13,EN14,EN15,EN16,EN17,EN18]).reset_index()\n",
    "Ensemble = EN.rename(columns={'index': 'date'}).sort_values(by='date').set_index('date').loc[date:]"
   ]
  },
  {
   "cell_type": "code",
   "execution_count": null,
   "metadata": {},
   "outputs": [],
   "source": []
  },
  {
   "cell_type": "code",
   "execution_count": 12,
   "metadata": {},
   "outputs": [
    {
     "data": {
      "text/plain": [
       "1.6586067095176813"
      ]
     },
     "execution_count": 12,
     "metadata": {},
     "output_type": "execute_result"
    }
   ],
   "source": [
    "# Error metric\n",
    "Ensemble['MAPE'] = ((Ensemble.EPS_10YR-Ensemble.Ensemble_pred).abs()\n",
    "                 .div(Ensemble.EPS_10YR)\n",
    "                 .cumsum()\n",
    "                 /np.arange(1,len(Ensemble)+1)\n",
    "             )\n",
    "Ensemble[\"MAPE\"].abs().mean()"
   ]
  },
  {
   "cell_type": "code",
   "execution_count": 13,
   "metadata": {},
   "outputs": [],
   "source": [
    "Ensemble = Ensemble[[\"EPS_10YR\", \"Ensemble_pred\"]]\n",
    "#Ensemble.to_csv(\"Ensemble.csv\")"
   ]
  },
  {
   "cell_type": "code",
   "execution_count": 14,
   "metadata": {},
   "outputs": [
    {
     "data": {
      "image/png": "[encoded data removed]",
      "text/plain": [
       "<Figure size 720x432 with 1 Axes>"
      ]
     },
     "metadata": {
      "needs_background": "light"
     },
     "output_type": "display_data"
    }
   ],
   "source": [
    "plt.figure(figsize=(10,6))\n",
    "ax1 = Ensemble.EPS_10YR.plot(color='blue',label='Actual', linestyle=\"-\",marker='o', markersize=2.5, linewidth=1)\n",
    "ax2 = Ensemble.Ensemble_pred.plot(color='orange', label='Forecast', marker='o', markersize=2.5, linewidth=1)\n",
    "ax1.set_ylabel('EPS-10YR(Modified EPS)')\n",
    "ax1.set_xlabel('Year(Monthly data)')\n",
    "ax1.set_xlim([datetime.date(2000,12,1), datetime.date(2021,9,1)])\n",
    "ax1.set_ylim([-1.2, 1.5])\n",
    "plt.title('EPS Actual Vs Forecast')\n",
    "plt.axvline(pd.Timestamp(date),color=\"grey\", linestyle=\":\", label = 'Train-Test Split')\n",
    "plt.axvspan(pd.Timestamp(date), pd.Timestamp(window), alpha=0.1, color='grey')\n",
    "plt.legend()\n",
    "plt.show()"
   ]
  },
  {
   "cell_type": "code",
   "execution_count": null,
   "metadata": {},
   "outputs": [],
   "source": []
  }
 ],
 "metadata": {
  "colab": {
   "collapsed_sections": [],
   "name": "Ensemble_Y10-6.ipynb",
   "provenance": []
  },
  "kernelspec": {
   "display_name": "Python 3",
   "language": "python",
   "name": "python3"
  },
  "language_info": {
   "codemirror_mode": {
    "name": "ipython",
    "version": 3
   },
   "file_extension": ".py",
   "mimetype": "text/x-python",
   "name": "python",
   "nbconvert_exporter": "python",
   "pygments_lexer": "ipython3",
   "version": "3.8.5"
  }
 },
 "nbformat": 4,
 "nbformat_minor": 1
}
