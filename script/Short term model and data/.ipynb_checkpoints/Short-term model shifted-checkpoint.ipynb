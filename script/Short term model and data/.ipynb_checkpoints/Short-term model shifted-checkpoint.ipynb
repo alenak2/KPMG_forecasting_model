{
 "cells": [
  {
   "cell_type": "code",
   "execution_count": 1,
   "id": "da590bc0",
   "metadata": {},
   "outputs": [],
   "source": [
    "import pandas as pd\n",
    "import matplotlib.pyplot as plt\n",
    "from prophet import Prophet\n",
    "from prophet.diagnostics import cross_validation\n",
    "from sklearn.preprocessing import StandardScaler\n",
    "from prophet.diagnostics import performance_metrics"
   ]
  },
  {
   "cell_type": "code",
   "execution_count": 149,
   "id": "b5dd9033",
   "metadata": {},
   "outputs": [],
   "source": [
    "def modelimproving(path, lookback='1095 days', pred_month=1,logisticcap = 4,):\n",
    "    index = pred_month-1\n",
    "    df=pd.read_csv(path)\n",
    "    df = df.sort_values(by=['ds'])\n",
    "    df = df.dropna()\n",
    "    target1 = pd.DataFrame()\n",
    "    target1['ds'] = pd.to_datetime(df['ds'])\n",
    "    target1['y'] = df['y']\n",
    "    m = Prophet(seasonality_mode='multiplicative')\n",
    "    m.fit(target1)\n",
    "    df_cv = cross_validation(m, initial=lookback, period='180 days', horizon='360 days')\n",
    "    df_p = performance_metrics(df_cv, rolling_window=0, monthly=True)\n",
    "    print('Basic univariable mape:{:0.2f}'.format(df_p['mape'][index]))\n",
    "    \n",
    "    target1['cpi']=df['cpi'].shift(pred_month)\n",
    "    target1['bus_conf']=df['bus_conf'].shift(pred_month)\n",
    "    target1['con_exp']=df['con_exp'].shift(pred_month)\n",
    "    target1['real_gdp']=df['real_gdp'].shift(pred_month)\n",
    "    target1['gov_con_exp']=df['gov_con_exp'].shift(pred_month)\n",
    "    target1.index = range(len(target1))\n",
    "    target1 = target1.drop(list(range(0,pred_month)))\n",
    "    target1.index = range(len(target1))\n",
    "    m2 = Prophet(seasonality_mode='multiplicative')\n",
    "    m2.add_regressor('cpi')\n",
    "    m2.add_regressor('bus_conf')\n",
    "    m2.add_regressor('con_exp')\n",
    "    m2.add_regressor('real_gdp')\n",
    "    m2.add_regressor('gov_con_exp')\n",
    "    m2.fit(target1)\n",
    "    df_cv2 = cross_validation(m2, initial=lookback, period='180 days', horizon = '360 days')\n",
    "    df_p2 = performance_metrics(df_cv2, rolling_window=0, monthly=True)\n",
    "    print('Regression model mape:{:0.2f}'.format(df_p2['mape'][index])) \n",
    "    \n",
    "\n",
    "    ss = StandardScaler()\n",
    "    ss.fit(target1[['cpi','bus_conf','con_exp','real_gdp','gov_con_exp']])\n",
    "    df_ss = pd.DataFrame(ss.transform(target1[['cpi','bus_conf','con_exp','real_gdp','gov_con_exp']]))\n",
    "    df_ss.columns = ['cpi','bus_conf','con_exp','real_gdp','gov_con_exp']\n",
    "    target2 = pd.DataFrame()\n",
    "    target2['ds'] = target1['ds']\n",
    "    target2['y'] = target1['y']\n",
    "    target2['cpi']=df_ss['cpi']\n",
    "    target2['bus_conf']=df_ss['bus_conf']\n",
    "    target2['con_exp']=df_ss['con_exp']\n",
    "    target2['real_gdp']=df_ss['real_gdp']\n",
    "    target2['gov_con_exp']=df_ss['gov_con_exp']\n",
    "    m3 = Prophet(seasonality_mode='multiplicative')\n",
    "    m3.add_regressor('cpi')\n",
    "    m3.add_regressor('bus_conf')\n",
    "    m3.add_regressor('con_exp')\n",
    "    m3.add_regressor('real_gdp')\n",
    "    m3.add_regressor('gov_con_exp')\n",
    "    m3.fit(target2)\n",
    "    df_cv3 = cross_validation(m3, initial=lookback, period='180 days', horizon='360 days')\n",
    "    df_p3 = performance_metrics(df_cv3, rolling_window=0, monthly=True)\n",
    "    print('StandardScaler Regression model mape:{:0.2f}'.format(df_p3['mape'][index]))     \n",
    "\n",
    "    target4 = pd.DataFrame()\n",
    "    target4['ds'] = pd.to_datetime(df['ds'])\n",
    "    target4['y'] = df['y']\n",
    "    target4['cap'] = logisticcap\n",
    "    m4 = Prophet(seasonality_mode='multiplicative',growth='logistic')\n",
    "    m4.fit(target4)\n",
    "    df_cv4 = cross_validation(m4, initial=lookback, period='180 days', horizon='360 days')\n",
    "    df_p4 = performance_metrics(df_cv4, rolling_window=0, monthly=True)\n",
    "    print('Logistic Kernel model mape:{:0.2f}'.format(df_p4['mape'][index]))\n",
    "    \n",
    "    m5 = Prophet(seasonality_mode='multiplicative',growth='logistic')\n",
    "    target1['cap'] = logisticcap\n",
    "    m5.add_regressor('cpi')\n",
    "    m5.add_regressor('bus_conf')\n",
    "    m5.add_regressor('con_exp')\n",
    "    m5.add_regressor('real_gdp')\n",
    "    m5.add_regressor('gov_con_exp')\n",
    "    m5.fit(target1)\n",
    "    df_cv5 = cross_validation(m5, initial=lookback, period='180 days', horizon='360 days')\n",
    "    df_p5 = performance_metrics(df_cv5, rolling_window=0, monthly=True)\n",
    "    print('Regression + Logistic Kernel model mape:{:0.2f}'.format(df_p5['mape'][index]))    \n",
    "    \n",
    "    return df_p,df_p2,df_p3,df_p4,df_p5, df_cv,df_cv2,df_cv3,df_cv4, df_cv5"
   ]
  },
  {
   "cell_type": "markdown",
   "id": "93590ffc",
   "metadata": {},
   "source": [
    "## TEST"
   ]
  },
  {
   "cell_type": "code",
   "execution_count": 150,
   "id": "3992e8f5",
   "metadata": {
    "collapsed": true
   },
   "outputs": [
    {
     "name": "stderr",
     "output_type": "stream",
     "text": [
      "INFO:prophet:Disabling weekly seasonality. Run prophet with weekly_seasonality=True to override this.\n",
      "INFO:prophet:Disabling daily seasonality. Run prophet with daily_seasonality=True to override this.\n",
      "INFO:prophet:Making 98 forecasts with cutoffs between 1972-05-17 00:00:00 and 2020-03-06 00:00:00\n"
     ]
    },
    {
     "data": {
      "application/vnd.jupyter.widget-view+json": {
       "model_id": "07e4964e3f1246a7b273c4dbc7471fb8",
       "version_major": 2,
       "version_minor": 0
      },
      "text/plain": [
       "  0%|          | 0/98 [00:00<?, ?it/s]"
      ]
     },
     "metadata": {},
     "output_type": "display_data"
    },
    {
     "name": "stderr",
     "output_type": "stream",
     "text": [
      "INFO:prophet:Disabling weekly seasonality. Run prophet with weekly_seasonality=True to override this.\n",
      "INFO:prophet:Disabling daily seasonality. Run prophet with daily_seasonality=True to override this.\n"
     ]
    },
    {
     "name": "stdout",
     "output_type": "stream",
     "text": [
      "Basic univariable mape:2.10\n"
     ]
    },
    {
     "name": "stderr",
     "output_type": "stream",
     "text": [
      "INFO:prophet:Making 98 forecasts with cutoffs between 1972-05-17 00:00:00 and 2020-03-06 00:00:00\n"
     ]
    },
    {
     "data": {
      "application/vnd.jupyter.widget-view+json": {
       "model_id": "b9ec6c09588b4333be04f64b04974898",
       "version_major": 2,
       "version_minor": 0
      },
      "text/plain": [
       "  0%|          | 0/98 [00:00<?, ?it/s]"
      ]
     },
     "metadata": {},
     "output_type": "display_data"
    },
    {
     "name": "stderr",
     "output_type": "stream",
     "text": [
      "INFO:prophet:Disabling weekly seasonality. Run prophet with weekly_seasonality=True to override this.\n",
      "INFO:prophet:Disabling daily seasonality. Run prophet with daily_seasonality=True to override this.\n"
     ]
    },
    {
     "name": "stdout",
     "output_type": "stream",
     "text": [
      "Regression model mape:2.72\n"
     ]
    },
    {
     "name": "stderr",
     "output_type": "stream",
     "text": [
      "INFO:prophet:Making 98 forecasts with cutoffs between 1972-05-17 00:00:00 and 2020-03-06 00:00:00\n"
     ]
    },
    {
     "data": {
      "application/vnd.jupyter.widget-view+json": {
       "model_id": "cbdd6fa1ddd64d1bbb5cdb19a0c23822",
       "version_major": 2,
       "version_minor": 0
      },
      "text/plain": [
       "  0%|          | 0/98 [00:00<?, ?it/s]"
      ]
     },
     "metadata": {},
     "output_type": "display_data"
    },
    {
     "name": "stderr",
     "output_type": "stream",
     "text": [
      "INFO:prophet:Disabling weekly seasonality. Run prophet with weekly_seasonality=True to override this.\n",
      "INFO:prophet:Disabling daily seasonality. Run prophet with daily_seasonality=True to override this.\n",
      "INFO:prophet:Making 98 forecasts with cutoffs between 1972-05-17 00:00:00 and 2020-03-06 00:00:00\n"
     ]
    },
    {
     "name": "stdout",
     "output_type": "stream",
     "text": [
      "StandardScaler Regression model mape:2.66\n"
     ]
    },
    {
     "data": {
      "application/vnd.jupyter.widget-view+json": {
       "model_id": "95e65f862efc4a64a7927c1a6fbfc247",
       "version_major": 2,
       "version_minor": 0
      },
      "text/plain": [
       "  0%|          | 0/98 [00:00<?, ?it/s]"
      ]
     },
     "metadata": {},
     "output_type": "display_data"
    },
    {
     "name": "stderr",
     "output_type": "stream",
     "text": [
      "INFO:prophet:Disabling weekly seasonality. Run prophet with weekly_seasonality=True to override this.\n",
      "INFO:prophet:Disabling daily seasonality. Run prophet with daily_seasonality=True to override this.\n",
      "INFO:prophet:Making 98 forecasts with cutoffs between 1972-05-17 00:00:00 and 2020-03-06 00:00:00\n"
     ]
    },
    {
     "name": "stdout",
     "output_type": "stream",
     "text": [
      "Logistic Kernel model mape:1.05\n"
     ]
    },
    {
     "data": {
      "application/vnd.jupyter.widget-view+json": {
       "model_id": "9b1f63a88beb4acaa5b07e1f8ad7d9bd",
       "version_major": 2,
       "version_minor": 0
      },
      "text/plain": [
       "  0%|          | 0/98 [00:00<?, ?it/s]"
      ]
     },
     "metadata": {},
     "output_type": "display_data"
    },
    {
     "name": "stdout",
     "output_type": "stream",
     "text": [
      "Regression + Logistic Kernel model mape:2.04\n"
     ]
    }
   ],
   "source": [
    "Basic, regression, ss_regression, Logistic, regression_logistic, df1,df2,df3,df4, df5 = modelimproving(path='data_short_term.csv', \n",
    "                                                            lookback='1095 days', \n",
    "                                                            pred_month=1,\n",
    "                                                            logisticcap=4,)"
   ]
  },
  {
   "cell_type": "code",
   "execution_count": 154,
   "id": "e5690d42",
   "metadata": {},
   "outputs": [],
   "source": [
    "def run_dump_model(path, out_file, lookback='1095 days', pred_month=1,logisticcap = 4,):\n",
    "    Basic, regression, ss_regression, Logistic, regression_logistic, df1,df2, df3, df4, df5 = modelimproving(path, \n",
    "                                                                                                             lookback=lookback, \n",
    "                                                                                                             pred_month=pred_month,\n",
    "                                                                                                             logisticcap=logisticcap,)\n",
    "    Basic, regression, ss_regression, Logistic, regression_logistic, df1,df2, df3, df4, df5 = Basic.to_json(), regression.to_json(), ss_regression.to_json(), Logistic.to_json(), regression_logistic.to_json(), df1.to_json(),df2.to_json(), df3.to_json(), df4.to_json(), df5.to_json()\n",
    "    temp = {\"Basic\":Basic, \n",
    "            \"regression\":regression,\n",
    "            \"ss_regression\":ss_regression,\n",
    "            \"Logistic\":Logistic,\n",
    "            \"regression_logistic\":regression_logistic,\n",
    "            \"Basic_df\":df1, \n",
    "            \"regression_df\":df2,\n",
    "            \"ss_regression_df\":df3,\n",
    "            \"Logistic_df\":df4,\n",
    "            \"regression_logistic_df\":df5}\n",
    "    jsonString = json.dumps(temp)\n",
    "    jsonFile = open(out_file, \"w\")\n",
    "    jsonFile.write(jsonString)\n",
    "    jsonFile.close()\n",
    "    return 0"
   ]
  },
  {
   "cell_type": "code",
   "execution_count": 155,
   "id": "509a36d8",
   "metadata": {},
   "outputs": [],
   "source": [
    "one_month = ['data_short_term.csv','one_month.json','1095 days',1,4]\n",
    "two_month = ['data_short_term.csv','two_month.json','2555 days',2,4]\n",
    "three_month = ['data_short_term.csv','three_month.json','2920 days',3,4]\n",
    "four_month = ['data_short_term.csv','four_month.json','2920 days',4,4]\n",
    "five_month = ['data_short_term.csv','five_month.json','2920 days',5,4]\n",
    "six_month = ['data_short_term.csv','six_month.json','2920 days',6,4]\n",
    "seven_month = ['data_short_term.csv','seven_month.json','2555 days',7,4]\n",
    "eight_month = ['data_short_term.csv','eight_month.json','2920 days',8,4]\n",
    "nine_month = ['data_short_term.csv','nine_month.json','2920 days',9,4]\n",
    "ten_month = ['data_short_term.csv','ten_month.json','2920 days',10,4]\n",
    "eleven_month = ['data_short_term.csv','eleven_month.json','2920 days',11,4]\n",
    "twelve_month = ['data_short_term.csv','twelve_month.json','2920 days',12,4]"
   ]
  },
  {
   "cell_type": "code",
   "execution_count": 156,
   "id": "3cfe004f",
   "metadata": {},
   "outputs": [
    {
     "name": "stderr",
     "output_type": "stream",
     "text": [
      "INFO:prophet:Disabling weekly seasonality. Run prophet with weekly_seasonality=True to override this.\n",
      "INFO:prophet:Disabling daily seasonality. Run prophet with daily_seasonality=True to override this.\n",
      "INFO:prophet:Making 98 forecasts with cutoffs between 1972-05-17 00:00:00 and 2020-03-06 00:00:00\n"
     ]
    },
    {
     "data": {
      "application/vnd.jupyter.widget-view+json": {
       "model_id": "24003376eb004d8eb6d27dac6a6a75b7",
       "version_major": 2,
       "version_minor": 0
      },
      "text/plain": [
       "  0%|          | 0/98 [00:00<?, ?it/s]"
      ]
     },
     "metadata": {},
     "output_type": "display_data"
    },
    {
     "name": "stderr",
     "output_type": "stream",
     "text": [
      "INFO:prophet:Disabling weekly seasonality. Run prophet with weekly_seasonality=True to override this.\n",
      "INFO:prophet:Disabling daily seasonality. Run prophet with daily_seasonality=True to override this.\n"
     ]
    },
    {
     "name": "stdout",
     "output_type": "stream",
     "text": [
      "Basic univariable mape:2.10\n"
     ]
    },
    {
     "name": "stderr",
     "output_type": "stream",
     "text": [
      "INFO:prophet:Making 98 forecasts with cutoffs between 1972-05-17 00:00:00 and 2020-03-06 00:00:00\n"
     ]
    },
    {
     "data": {
      "application/vnd.jupyter.widget-view+json": {
       "model_id": "b02e4e39ceb649fdbc1a597452350c57",
       "version_major": 2,
       "version_minor": 0
      },
      "text/plain": [
       "  0%|          | 0/98 [00:00<?, ?it/s]"
      ]
     },
     "metadata": {},
     "output_type": "display_data"
    },
    {
     "name": "stderr",
     "output_type": "stream",
     "text": [
      "INFO:prophet:Disabling weekly seasonality. Run prophet with weekly_seasonality=True to override this.\n",
      "INFO:prophet:Disabling daily seasonality. Run prophet with daily_seasonality=True to override this.\n"
     ]
    },
    {
     "name": "stdout",
     "output_type": "stream",
     "text": [
      "Regression model mape:2.72\n"
     ]
    },
    {
     "name": "stderr",
     "output_type": "stream",
     "text": [
      "INFO:prophet:Making 98 forecasts with cutoffs between 1972-05-17 00:00:00 and 2020-03-06 00:00:00\n"
     ]
    },
    {
     "data": {
      "application/vnd.jupyter.widget-view+json": {
       "model_id": "99ad79ac218947ed8d33db3700b0f61f",
       "version_major": 2,
       "version_minor": 0
      },
      "text/plain": [
       "  0%|          | 0/98 [00:00<?, ?it/s]"
      ]
     },
     "metadata": {},
     "output_type": "display_data"
    },
    {
     "name": "stderr",
     "output_type": "stream",
     "text": [
      "INFO:prophet:Disabling weekly seasonality. Run prophet with weekly_seasonality=True to override this.\n",
      "INFO:prophet:Disabling daily seasonality. Run prophet with daily_seasonality=True to override this.\n",
      "INFO:prophet:Making 98 forecasts with cutoffs between 1972-05-17 00:00:00 and 2020-03-06 00:00:00\n"
     ]
    },
    {
     "name": "stdout",
     "output_type": "stream",
     "text": [
      "StandardScaler Regression model mape:2.66\n"
     ]
    },
    {
     "data": {
      "application/vnd.jupyter.widget-view+json": {
       "model_id": "e8736f9af72c4f7bb5ea59c783b93b2f",
       "version_major": 2,
       "version_minor": 0
      },
      "text/plain": [
       "  0%|          | 0/98 [00:00<?, ?it/s]"
      ]
     },
     "metadata": {},
     "output_type": "display_data"
    },
    {
     "name": "stderr",
     "output_type": "stream",
     "text": [
      "INFO:prophet:Disabling weekly seasonality. Run prophet with weekly_seasonality=True to override this.\n",
      "INFO:prophet:Disabling daily seasonality. Run prophet with daily_seasonality=True to override this.\n",
      "INFO:prophet:Making 98 forecasts with cutoffs between 1972-05-17 00:00:00 and 2020-03-06 00:00:00\n"
     ]
    },
    {
     "name": "stdout",
     "output_type": "stream",
     "text": [
      "Logistic Kernel model mape:1.05\n"
     ]
    },
    {
     "data": {
      "application/vnd.jupyter.widget-view+json": {
       "model_id": "049bf25240654e4f9fd347c8ed80face",
       "version_major": 2,
       "version_minor": 0
      },
      "text/plain": [
       "  0%|          | 0/98 [00:00<?, ?it/s]"
      ]
     },
     "metadata": {},
     "output_type": "display_data"
    },
    {
     "name": "stderr",
     "output_type": "stream",
     "text": [
      "INFO:prophet:Disabling weekly seasonality. Run prophet with weekly_seasonality=True to override this.\n",
      "INFO:prophet:Disabling daily seasonality. Run prophet with daily_seasonality=True to override this.\n",
      "INFO:prophet:Making 90 forecasts with cutoffs between 1976-04-26 00:00:00 and 2020-03-06 00:00:00\n"
     ]
    },
    {
     "name": "stdout",
     "output_type": "stream",
     "text": [
      "Regression + Logistic Kernel model mape:2.04\n"
     ]
    },
    {
     "data": {
      "application/vnd.jupyter.widget-view+json": {
       "model_id": "c25450aea08a44b0b0fbdcd9c32567f0",
       "version_major": 2,
       "version_minor": 0
      },
      "text/plain": [
       "  0%|          | 0/90 [00:00<?, ?it/s]"
      ]
     },
     "metadata": {},
     "output_type": "display_data"
    },
    {
     "name": "stderr",
     "output_type": "stream",
     "text": [
      "INFO:prophet:Disabling weekly seasonality. Run prophet with weekly_seasonality=True to override this.\n",
      "INFO:prophet:Disabling daily seasonality. Run prophet with daily_seasonality=True to override this.\n"
     ]
    },
    {
     "name": "stdout",
     "output_type": "stream",
     "text": [
      "Basic univariable mape:1.45\n"
     ]
    },
    {
     "name": "stderr",
     "output_type": "stream",
     "text": [
      "INFO:prophet:Making 90 forecasts with cutoffs between 1976-04-26 00:00:00 and 2020-03-06 00:00:00\n"
     ]
    },
    {
     "data": {
      "application/vnd.jupyter.widget-view+json": {
       "model_id": "bd73f97c11324c048d9f961c65896c2b",
       "version_major": 2,
       "version_minor": 0
      },
      "text/plain": [
       "  0%|          | 0/90 [00:00<?, ?it/s]"
      ]
     },
     "metadata": {},
     "output_type": "display_data"
    },
    {
     "name": "stderr",
     "output_type": "stream",
     "text": [
      "INFO:prophet:Disabling weekly seasonality. Run prophet with weekly_seasonality=True to override this.\n",
      "INFO:prophet:Disabling daily seasonality. Run prophet with daily_seasonality=True to override this.\n"
     ]
    },
    {
     "name": "stdout",
     "output_type": "stream",
     "text": [
      "Regression model mape:2.15\n"
     ]
    },
    {
     "name": "stderr",
     "output_type": "stream",
     "text": [
      "INFO:prophet:Making 90 forecasts with cutoffs between 1976-04-26 00:00:00 and 2020-03-06 00:00:00\n"
     ]
    },
    {
     "data": {
      "application/vnd.jupyter.widget-view+json": {
       "model_id": "20bedf62032c4eca8c72776eb2f7677a",
       "version_major": 2,
       "version_minor": 0
      },
      "text/plain": [
       "  0%|          | 0/90 [00:00<?, ?it/s]"
      ]
     },
     "metadata": {},
     "output_type": "display_data"
    },
    {
     "name": "stderr",
     "output_type": "stream",
     "text": [
      "INFO:prophet:Disabling weekly seasonality. Run prophet with weekly_seasonality=True to override this.\n",
      "INFO:prophet:Disabling daily seasonality. Run prophet with daily_seasonality=True to override this.\n",
      "INFO:prophet:Making 90 forecasts with cutoffs between 1976-04-26 00:00:00 and 2020-03-06 00:00:00\n"
     ]
    },
    {
     "name": "stdout",
     "output_type": "stream",
     "text": [
      "StandardScaler Regression model mape:2.14\n"
     ]
    },
    {
     "data": {
      "application/vnd.jupyter.widget-view+json": {
       "model_id": "cbf17b77d3484efeaa74794d1ef8ace5",
       "version_major": 2,
       "version_minor": 0
      },
      "text/plain": [
       "  0%|          | 0/90 [00:00<?, ?it/s]"
      ]
     },
     "metadata": {},
     "output_type": "display_data"
    },
    {
     "name": "stderr",
     "output_type": "stream",
     "text": [
      "INFO:prophet:Disabling weekly seasonality. Run prophet with weekly_seasonality=True to override this.\n",
      "INFO:prophet:Disabling daily seasonality. Run prophet with daily_seasonality=True to override this.\n",
      "INFO:prophet:Making 90 forecasts with cutoffs between 1976-04-26 00:00:00 and 2020-03-06 00:00:00\n"
     ]
    },
    {
     "name": "stdout",
     "output_type": "stream",
     "text": [
      "Logistic Kernel model mape:1.14\n"
     ]
    },
    {
     "data": {
      "application/vnd.jupyter.widget-view+json": {
       "model_id": "01f8c079e9de4ec183c8532651e3064c",
       "version_major": 2,
       "version_minor": 0
      },
      "text/plain": [
       "  0%|          | 0/90 [00:00<?, ?it/s]"
      ]
     },
     "metadata": {},
     "output_type": "display_data"
    },
    {
     "name": "stderr",
     "output_type": "stream",
     "text": [
      "INFO:prophet:Disabling weekly seasonality. Run prophet with weekly_seasonality=True to override this.\n",
      "INFO:prophet:Disabling daily seasonality. Run prophet with daily_seasonality=True to override this.\n",
      "INFO:prophet:Making 88 forecasts with cutoffs between 1977-04-21 00:00:00 and 2020-03-06 00:00:00\n"
     ]
    },
    {
     "name": "stdout",
     "output_type": "stream",
     "text": [
      "Regression + Logistic Kernel model mape:1.05\n"
     ]
    },
    {
     "data": {
      "application/vnd.jupyter.widget-view+json": {
       "model_id": "bc19543946e34913a56987dc9a22de8d",
       "version_major": 2,
       "version_minor": 0
      },
      "text/plain": [
       "  0%|          | 0/88 [00:00<?, ?it/s]"
      ]
     },
     "metadata": {},
     "output_type": "display_data"
    },
    {
     "name": "stderr",
     "output_type": "stream",
     "text": [
      "INFO:prophet:Disabling weekly seasonality. Run prophet with weekly_seasonality=True to override this.\n",
      "INFO:prophet:Disabling daily seasonality. Run prophet with daily_seasonality=True to override this.\n"
     ]
    },
    {
     "name": "stdout",
     "output_type": "stream",
     "text": [
      "Basic univariable mape:1.39\n"
     ]
    },
    {
     "name": "stderr",
     "output_type": "stream",
     "text": [
      "INFO:prophet:Making 88 forecasts with cutoffs between 1977-04-21 00:00:00 and 2020-03-06 00:00:00\n"
     ]
    },
    {
     "data": {
      "application/vnd.jupyter.widget-view+json": {
       "model_id": "2a8e453c7bf24ebc884db99aea196009",
       "version_major": 2,
       "version_minor": 0
      },
      "text/plain": [
       "  0%|          | 0/88 [00:00<?, ?it/s]"
      ]
     },
     "metadata": {},
     "output_type": "display_data"
    },
    {
     "name": "stderr",
     "output_type": "stream",
     "text": [
      "INFO:prophet:Disabling weekly seasonality. Run prophet with weekly_seasonality=True to override this.\n",
      "INFO:prophet:Disabling daily seasonality. Run prophet with daily_seasonality=True to override this.\n"
     ]
    },
    {
     "name": "stdout",
     "output_type": "stream",
     "text": [
      "Regression model mape:2.41\n"
     ]
    },
    {
     "name": "stderr",
     "output_type": "stream",
     "text": [
      "INFO:prophet:Making 88 forecasts with cutoffs between 1977-04-21 00:00:00 and 2020-03-06 00:00:00\n"
     ]
    },
    {
     "data": {
      "application/vnd.jupyter.widget-view+json": {
       "model_id": "64fbf28d5b41447f8953d1e676e88cd8",
       "version_major": 2,
       "version_minor": 0
      },
      "text/plain": [
       "  0%|          | 0/88 [00:00<?, ?it/s]"
      ]
     },
     "metadata": {},
     "output_type": "display_data"
    },
    {
     "name": "stderr",
     "output_type": "stream",
     "text": [
      "INFO:prophet:Disabling weekly seasonality. Run prophet with weekly_seasonality=True to override this.\n",
      "INFO:prophet:Disabling daily seasonality. Run prophet with daily_seasonality=True to override this.\n",
      "INFO:prophet:Making 88 forecasts with cutoffs between 1977-04-21 00:00:00 and 2020-03-06 00:00:00\n"
     ]
    },
    {
     "name": "stdout",
     "output_type": "stream",
     "text": [
      "StandardScaler Regression model mape:2.42\n"
     ]
    },
    {
     "data": {
      "application/vnd.jupyter.widget-view+json": {
       "model_id": "178eeedca7bf40908ca3e76c78d25568",
       "version_major": 2,
       "version_minor": 0
      },
      "text/plain": [
       "  0%|          | 0/88 [00:00<?, ?it/s]"
      ]
     },
     "metadata": {},
     "output_type": "display_data"
    },
    {
     "name": "stderr",
     "output_type": "stream",
     "text": [
      "INFO:prophet:Disabling weekly seasonality. Run prophet with weekly_seasonality=True to override this.\n",
      "INFO:prophet:Disabling daily seasonality. Run prophet with daily_seasonality=True to override this.\n",
      "INFO:prophet:Making 88 forecasts with cutoffs between 1977-04-21 00:00:00 and 2020-03-06 00:00:00\n"
     ]
    },
    {
     "name": "stdout",
     "output_type": "stream",
     "text": [
      "Logistic Kernel model mape:1.11\n"
     ]
    },
    {
     "data": {
      "application/vnd.jupyter.widget-view+json": {
       "model_id": "1a48f38266b84521a28ad36a9e1783a6",
       "version_major": 2,
       "version_minor": 0
      },
      "text/plain": [
       "  0%|          | 0/88 [00:00<?, ?it/s]"
      ]
     },
     "metadata": {},
     "output_type": "display_data"
    },
    {
     "name": "stderr",
     "output_type": "stream",
     "text": [
      "INFO:prophet:Disabling weekly seasonality. Run prophet with weekly_seasonality=True to override this.\n",
      "INFO:prophet:Disabling daily seasonality. Run prophet with daily_seasonality=True to override this.\n",
      "INFO:prophet:Making 88 forecasts with cutoffs between 1977-04-21 00:00:00 and 2020-03-06 00:00:00\n"
     ]
    },
    {
     "name": "stdout",
     "output_type": "stream",
     "text": [
      "Regression + Logistic Kernel model mape:1.95\n"
     ]
    },
    {
     "data": {
      "application/vnd.jupyter.widget-view+json": {
       "model_id": "634a238c719b4d41867a7d168fbb3426",
       "version_major": 2,
       "version_minor": 0
      },
      "text/plain": [
       "  0%|          | 0/88 [00:00<?, ?it/s]"
      ]
     },
     "metadata": {},
     "output_type": "display_data"
    },
    {
     "name": "stderr",
     "output_type": "stream",
     "text": [
      "INFO:prophet:Disabling weekly seasonality. Run prophet with weekly_seasonality=True to override this.\n",
      "INFO:prophet:Disabling daily seasonality. Run prophet with daily_seasonality=True to override this.\n"
     ]
    },
    {
     "name": "stdout",
     "output_type": "stream",
     "text": [
      "Basic univariable mape:1.63\n"
     ]
    },
    {
     "name": "stderr",
     "output_type": "stream",
     "text": [
      "INFO:prophet:Making 87 forecasts with cutoffs between 1977-10-18 00:00:00 and 2020-03-06 00:00:00\n"
     ]
    },
    {
     "data": {
      "application/vnd.jupyter.widget-view+json": {
       "model_id": "c402dcf8c6934ad6b0780fefd2962e56",
       "version_major": 2,
       "version_minor": 0
      },
      "text/plain": [
       "  0%|          | 0/87 [00:00<?, ?it/s]"
      ]
     },
     "metadata": {},
     "output_type": "display_data"
    },
    {
     "name": "stderr",
     "output_type": "stream",
     "text": [
      "INFO:prophet:Disabling weekly seasonality. Run prophet with weekly_seasonality=True to override this.\n",
      "INFO:prophet:Disabling daily seasonality. Run prophet with daily_seasonality=True to override this.\n"
     ]
    },
    {
     "name": "stdout",
     "output_type": "stream",
     "text": [
      "Regression model mape:2.93\n"
     ]
    },
    {
     "name": "stderr",
     "output_type": "stream",
     "text": [
      "INFO:prophet:Making 87 forecasts with cutoffs between 1977-10-18 00:00:00 and 2020-03-06 00:00:00\n"
     ]
    },
    {
     "data": {
      "application/vnd.jupyter.widget-view+json": {
       "model_id": "ac1428fc7a7e4a7a9869b470975d755f",
       "version_major": 2,
       "version_minor": 0
      },
      "text/plain": [
       "  0%|          | 0/87 [00:00<?, ?it/s]"
      ]
     },
     "metadata": {},
     "output_type": "display_data"
    },
    {
     "name": "stderr",
     "output_type": "stream",
     "text": [
      "INFO:prophet:Disabling weekly seasonality. Run prophet with weekly_seasonality=True to override this.\n",
      "INFO:prophet:Disabling daily seasonality. Run prophet with daily_seasonality=True to override this.\n",
      "INFO:prophet:Making 88 forecasts with cutoffs between 1977-04-21 00:00:00 and 2020-03-06 00:00:00\n"
     ]
    },
    {
     "name": "stdout",
     "output_type": "stream",
     "text": [
      "StandardScaler Regression model mape:2.89\n"
     ]
    },
    {
     "data": {
      "application/vnd.jupyter.widget-view+json": {
       "model_id": "e818f40373794f1082ac689fcf8073c6",
       "version_major": 2,
       "version_minor": 0
      },
      "text/plain": [
       "  0%|          | 0/88 [00:00<?, ?it/s]"
      ]
     },
     "metadata": {},
     "output_type": "display_data"
    },
    {
     "name": "stderr",
     "output_type": "stream",
     "text": [
      "INFO:prophet:Disabling weekly seasonality. Run prophet with weekly_seasonality=True to override this.\n",
      "INFO:prophet:Disabling daily seasonality. Run prophet with daily_seasonality=True to override this.\n",
      "INFO:prophet:Making 87 forecasts with cutoffs between 1977-10-18 00:00:00 and 2020-03-06 00:00:00\n"
     ]
    },
    {
     "name": "stdout",
     "output_type": "stream",
     "text": [
      "Logistic Kernel model mape:1.26\n"
     ]
    },
    {
     "data": {
      "application/vnd.jupyter.widget-view+json": {
       "model_id": "284516c09e714f4b95d0a0a3a4c31a5e",
       "version_major": 2,
       "version_minor": 0
      },
      "text/plain": [
       "  0%|          | 0/87 [00:00<?, ?it/s]"
      ]
     },
     "metadata": {},
     "output_type": "display_data"
    },
    {
     "name": "stderr",
     "output_type": "stream",
     "text": [
      "INFO:prophet:Disabling weekly seasonality. Run prophet with weekly_seasonality=True to override this.\n",
      "INFO:prophet:Disabling daily seasonality. Run prophet with daily_seasonality=True to override this.\n",
      "INFO:prophet:Making 88 forecasts with cutoffs between 1977-04-21 00:00:00 and 2020-03-06 00:00:00\n"
     ]
    },
    {
     "name": "stdout",
     "output_type": "stream",
     "text": [
      "Regression + Logistic Kernel model mape:2.67\n"
     ]
    },
    {
     "data": {
      "application/vnd.jupyter.widget-view+json": {
       "model_id": "a5c5472ec6bc4e1db44dda4bcfd7f2a4",
       "version_major": 2,
       "version_minor": 0
      },
      "text/plain": [
       "  0%|          | 0/88 [00:00<?, ?it/s]"
      ]
     },
     "metadata": {},
     "output_type": "display_data"
    },
    {
     "name": "stderr",
     "output_type": "stream",
     "text": [
      "INFO:prophet:Disabling weekly seasonality. Run prophet with weekly_seasonality=True to override this.\n",
      "INFO:prophet:Disabling daily seasonality. Run prophet with daily_seasonality=True to override this.\n"
     ]
    },
    {
     "name": "stdout",
     "output_type": "stream",
     "text": [
      "Basic univariable mape:2.16\n"
     ]
    },
    {
     "name": "stderr",
     "output_type": "stream",
     "text": [
      "INFO:prophet:Making 87 forecasts with cutoffs between 1977-10-18 00:00:00 and 2020-03-06 00:00:00\n"
     ]
    },
    {
     "data": {
      "application/vnd.jupyter.widget-view+json": {
       "model_id": "6f6d3a99f26d41d485b27349f7a73f95",
       "version_major": 2,
       "version_minor": 0
      },
      "text/plain": [
       "  0%|          | 0/87 [00:00<?, ?it/s]"
      ]
     },
     "metadata": {},
     "output_type": "display_data"
    },
    {
     "name": "stderr",
     "output_type": "stream",
     "text": [
      "INFO:prophet:Disabling weekly seasonality. Run prophet with weekly_seasonality=True to override this.\n",
      "INFO:prophet:Disabling daily seasonality. Run prophet with daily_seasonality=True to override this.\n"
     ]
    },
    {
     "name": "stdout",
     "output_type": "stream",
     "text": [
      "Regression model mape:4.37\n"
     ]
    },
    {
     "name": "stderr",
     "output_type": "stream",
     "text": [
      "INFO:prophet:Making 87 forecasts with cutoffs between 1977-10-18 00:00:00 and 2020-03-06 00:00:00\n"
     ]
    },
    {
     "data": {
      "application/vnd.jupyter.widget-view+json": {
       "model_id": "130b469976704228947fa161cc4d96bb",
       "version_major": 2,
       "version_minor": 0
      },
      "text/plain": [
       "  0%|          | 0/87 [00:00<?, ?it/s]"
      ]
     },
     "metadata": {},
     "output_type": "display_data"
    },
    {
     "name": "stderr",
     "output_type": "stream",
     "text": [
      "INFO:prophet:Disabling weekly seasonality. Run prophet with weekly_seasonality=True to override this.\n",
      "INFO:prophet:Disabling daily seasonality. Run prophet with daily_seasonality=True to override this.\n",
      "INFO:prophet:Making 88 forecasts with cutoffs between 1977-04-21 00:00:00 and 2020-03-06 00:00:00\n"
     ]
    },
    {
     "name": "stdout",
     "output_type": "stream",
     "text": [
      "StandardScaler Regression model mape:4.57\n"
     ]
    },
    {
     "data": {
      "application/vnd.jupyter.widget-view+json": {
       "model_id": "38e89e14464540dd9bf833b437383ce6",
       "version_major": 2,
       "version_minor": 0
      },
      "text/plain": [
       "  0%|          | 0/88 [00:00<?, ?it/s]"
      ]
     },
     "metadata": {},
     "output_type": "display_data"
    },
    {
     "name": "stderr",
     "output_type": "stream",
     "text": [
      "INFO:prophet:Disabling weekly seasonality. Run prophet with weekly_seasonality=True to override this.\n",
      "INFO:prophet:Disabling daily seasonality. Run prophet with daily_seasonality=True to override this.\n",
      "INFO:prophet:Making 87 forecasts with cutoffs between 1977-10-18 00:00:00 and 2020-03-06 00:00:00\n"
     ]
    },
    {
     "name": "stdout",
     "output_type": "stream",
     "text": [
      "Logistic Kernel model mape:2.11\n"
     ]
    },
    {
     "data": {
      "application/vnd.jupyter.widget-view+json": {
       "model_id": "656b568cb3fd4172be47e40c15c5107e",
       "version_major": 2,
       "version_minor": 0
      },
      "text/plain": [
       "  0%|          | 0/87 [00:00<?, ?it/s]"
      ]
     },
     "metadata": {},
     "output_type": "display_data"
    },
    {
     "name": "stderr",
     "output_type": "stream",
     "text": [
      "INFO:prophet:Disabling weekly seasonality. Run prophet with weekly_seasonality=True to override this.\n",
      "INFO:prophet:Disabling daily seasonality. Run prophet with daily_seasonality=True to override this.\n",
      "INFO:prophet:Making 88 forecasts with cutoffs between 1977-04-21 00:00:00 and 2020-03-06 00:00:00\n"
     ]
    },
    {
     "name": "stdout",
     "output_type": "stream",
     "text": [
      "Regression + Logistic Kernel model mape:5.40\n"
     ]
    },
    {
     "data": {
      "application/vnd.jupyter.widget-view+json": {
       "model_id": "ae7922855bfd4a9db8e2e1c3572e09f9",
       "version_major": 2,
       "version_minor": 0
      },
      "text/plain": [
       "  0%|          | 0/88 [00:00<?, ?it/s]"
      ]
     },
     "metadata": {},
     "output_type": "display_data"
    },
    {
     "name": "stderr",
     "output_type": "stream",
     "text": [
      "INFO:prophet:Disabling weekly seasonality. Run prophet with weekly_seasonality=True to override this.\n",
      "INFO:prophet:Disabling daily seasonality. Run prophet with daily_seasonality=True to override this.\n"
     ]
    },
    {
     "name": "stdout",
     "output_type": "stream",
     "text": [
      "Basic univariable mape:1.42\n"
     ]
    },
    {
     "name": "stderr",
     "output_type": "stream",
     "text": [
      "INFO:prophet:Making 87 forecasts with cutoffs between 1977-10-18 00:00:00 and 2020-03-06 00:00:00\n"
     ]
    },
    {
     "data": {
      "application/vnd.jupyter.widget-view+json": {
       "model_id": "95a257a7b0384e35a1424a95f23886a6",
       "version_major": 2,
       "version_minor": 0
      },
      "text/plain": [
       "  0%|          | 0/87 [00:00<?, ?it/s]"
      ]
     },
     "metadata": {},
     "output_type": "display_data"
    },
    {
     "name": "stderr",
     "output_type": "stream",
     "text": [
      "INFO:prophet:Disabling weekly seasonality. Run prophet with weekly_seasonality=True to override this.\n",
      "INFO:prophet:Disabling daily seasonality. Run prophet with daily_seasonality=True to override this.\n"
     ]
    },
    {
     "name": "stdout",
     "output_type": "stream",
     "text": [
      "Regression model mape:2.24\n"
     ]
    },
    {
     "name": "stderr",
     "output_type": "stream",
     "text": [
      "INFO:prophet:Making 87 forecasts with cutoffs between 1977-10-18 00:00:00 and 2020-03-06 00:00:00\n"
     ]
    },
    {
     "data": {
      "application/vnd.jupyter.widget-view+json": {
       "model_id": "b68894cd9fd948999c962906ef6a7f71",
       "version_major": 2,
       "version_minor": 0
      },
      "text/plain": [
       "  0%|          | 0/87 [00:00<?, ?it/s]"
      ]
     },
     "metadata": {},
     "output_type": "display_data"
    },
    {
     "name": "stderr",
     "output_type": "stream",
     "text": [
      "INFO:prophet:Disabling weekly seasonality. Run prophet with weekly_seasonality=True to override this.\n",
      "INFO:prophet:Disabling daily seasonality. Run prophet with daily_seasonality=True to override this.\n",
      "INFO:prophet:Making 88 forecasts with cutoffs between 1977-04-21 00:00:00 and 2020-03-06 00:00:00\n"
     ]
    },
    {
     "name": "stdout",
     "output_type": "stream",
     "text": [
      "StandardScaler Regression model mape:2.14\n"
     ]
    },
    {
     "data": {
      "application/vnd.jupyter.widget-view+json": {
       "model_id": "15f245f6aa744e3cbfef033a86c0c82e",
       "version_major": 2,
       "version_minor": 0
      },
      "text/plain": [
       "  0%|          | 0/88 [00:00<?, ?it/s]"
      ]
     },
     "metadata": {},
     "output_type": "display_data"
    },
    {
     "name": "stderr",
     "output_type": "stream",
     "text": [
      "INFO:prophet:Disabling weekly seasonality. Run prophet with weekly_seasonality=True to override this.\n",
      "INFO:prophet:Disabling daily seasonality. Run prophet with daily_seasonality=True to override this.\n",
      "INFO:prophet:Making 87 forecasts with cutoffs between 1977-10-18 00:00:00 and 2020-03-06 00:00:00\n"
     ]
    },
    {
     "name": "stdout",
     "output_type": "stream",
     "text": [
      "Logistic Kernel model mape:1.09\n"
     ]
    },
    {
     "data": {
      "application/vnd.jupyter.widget-view+json": {
       "model_id": "5cfeff233ef947fbba69ce6b53e4d693",
       "version_major": 2,
       "version_minor": 0
      },
      "text/plain": [
       "  0%|          | 0/87 [00:00<?, ?it/s]"
      ]
     },
     "metadata": {},
     "output_type": "display_data"
    },
    {
     "name": "stderr",
     "output_type": "stream",
     "text": [
      "INFO:prophet:Disabling weekly seasonality. Run prophet with weekly_seasonality=True to override this.\n",
      "INFO:prophet:Disabling daily seasonality. Run prophet with daily_seasonality=True to override this.\n",
      "INFO:prophet:Making 90 forecasts with cutoffs between 1976-04-26 00:00:00 and 2020-03-06 00:00:00\n"
     ]
    },
    {
     "name": "stdout",
     "output_type": "stream",
     "text": [
      "Regression + Logistic Kernel model mape:1.24\n"
     ]
    },
    {
     "data": {
      "application/vnd.jupyter.widget-view+json": {
       "model_id": "5879bf7f90744740a4e22a9d7fd5b0f4",
       "version_major": 2,
       "version_minor": 0
      },
      "text/plain": [
       "  0%|          | 0/90 [00:00<?, ?it/s]"
      ]
     },
     "metadata": {},
     "output_type": "display_data"
    },
    {
     "name": "stderr",
     "output_type": "stream",
     "text": [
      "INFO:prophet:Disabling weekly seasonality. Run prophet with weekly_seasonality=True to override this.\n",
      "INFO:prophet:Disabling daily seasonality. Run prophet with daily_seasonality=True to override this.\n"
     ]
    },
    {
     "name": "stdout",
     "output_type": "stream",
     "text": [
      "Basic univariable mape:2.32\n"
     ]
    },
    {
     "name": "stderr",
     "output_type": "stream",
     "text": [
      "INFO:prophet:Making 89 forecasts with cutoffs between 1976-10-23 00:00:00 and 2020-03-06 00:00:00\n"
     ]
    },
    {
     "data": {
      "application/vnd.jupyter.widget-view+json": {
       "model_id": "dca77ba5ac9c47ed99f50577684ad94f",
       "version_major": 2,
       "version_minor": 0
      },
      "text/plain": [
       "  0%|          | 0/89 [00:00<?, ?it/s]"
      ]
     },
     "metadata": {},
     "output_type": "display_data"
    },
    {
     "name": "stderr",
     "output_type": "stream",
     "text": [
      "INFO:prophet:Disabling weekly seasonality. Run prophet with weekly_seasonality=True to override this.\n",
      "INFO:prophet:Disabling daily seasonality. Run prophet with daily_seasonality=True to override this.\n"
     ]
    },
    {
     "name": "stdout",
     "output_type": "stream",
     "text": [
      "Regression model mape:2.30\n"
     ]
    },
    {
     "name": "stderr",
     "output_type": "stream",
     "text": [
      "INFO:prophet:Making 89 forecasts with cutoffs between 1976-10-23 00:00:00 and 2020-03-06 00:00:00\n"
     ]
    },
    {
     "data": {
      "application/vnd.jupyter.widget-view+json": {
       "model_id": "034da11859484d77832fe4e5e4a14bcb",
       "version_major": 2,
       "version_minor": 0
      },
      "text/plain": [
       "  0%|          | 0/89 [00:00<?, ?it/s]"
      ]
     },
     "metadata": {},
     "output_type": "display_data"
    },
    {
     "name": "stderr",
     "output_type": "stream",
     "text": [
      "INFO:prophet:Disabling weekly seasonality. Run prophet with weekly_seasonality=True to override this.\n",
      "INFO:prophet:Disabling daily seasonality. Run prophet with daily_seasonality=True to override this.\n",
      "INFO:prophet:Making 90 forecasts with cutoffs between 1976-04-26 00:00:00 and 2020-03-06 00:00:00\n"
     ]
    },
    {
     "name": "stdout",
     "output_type": "stream",
     "text": [
      "StandardScaler Regression model mape:2.48\n"
     ]
    },
    {
     "data": {
      "application/vnd.jupyter.widget-view+json": {
       "model_id": "929c3ca4ad31418197013bd4ccc4b80a",
       "version_major": 2,
       "version_minor": 0
      },
      "text/plain": [
       "  0%|          | 0/90 [00:00<?, ?it/s]"
      ]
     },
     "metadata": {},
     "output_type": "display_data"
    },
    {
     "name": "stderr",
     "output_type": "stream",
     "text": [
      "INFO:prophet:Disabling weekly seasonality. Run prophet with weekly_seasonality=True to override this.\n",
      "INFO:prophet:Disabling daily seasonality. Run prophet with daily_seasonality=True to override this.\n",
      "INFO:prophet:Making 89 forecasts with cutoffs between 1976-10-23 00:00:00 and 2020-03-06 00:00:00\n"
     ]
    },
    {
     "name": "stdout",
     "output_type": "stream",
     "text": [
      "Logistic Kernel model mape:2.11\n"
     ]
    },
    {
     "data": {
      "application/vnd.jupyter.widget-view+json": {
       "model_id": "9464e47f2f16481cb6afc29c2e5e06d6",
       "version_major": 2,
       "version_minor": 0
      },
      "text/plain": [
       "  0%|          | 0/89 [00:00<?, ?it/s]"
      ]
     },
     "metadata": {},
     "output_type": "display_data"
    },
    {
     "name": "stderr",
     "output_type": "stream",
     "text": [
      "INFO:prophet:Disabling weekly seasonality. Run prophet with weekly_seasonality=True to override this.\n",
      "INFO:prophet:Disabling daily seasonality. Run prophet with daily_seasonality=True to override this.\n",
      "INFO:prophet:Making 88 forecasts with cutoffs between 1977-04-21 00:00:00 and 2020-03-06 00:00:00\n"
     ]
    },
    {
     "name": "stdout",
     "output_type": "stream",
     "text": [
      "Regression + Logistic Kernel model mape:3.03\n"
     ]
    },
    {
     "data": {
      "application/vnd.jupyter.widget-view+json": {
       "model_id": "bbadfd6f39024cceaee94809f85e4625",
       "version_major": 2,
       "version_minor": 0
      },
      "text/plain": [
       "  0%|          | 0/88 [00:00<?, ?it/s]"
      ]
     },
     "metadata": {},
     "output_type": "display_data"
    },
    {
     "name": "stderr",
     "output_type": "stream",
     "text": [
      "INFO:prophet:Disabling weekly seasonality. Run prophet with weekly_seasonality=True to override this.\n",
      "INFO:prophet:Disabling daily seasonality. Run prophet with daily_seasonality=True to override this.\n",
      "INFO:prophet:Making 87 forecasts with cutoffs between 1977-10-18 00:00:00 and 2020-03-06 00:00:00\n"
     ]
    },
    {
     "name": "stdout",
     "output_type": "stream",
     "text": [
      "Basic univariable mape:1.65\n"
     ]
    },
    {
     "data": {
      "application/vnd.jupyter.widget-view+json": {
       "model_id": "34f64c45d459482a9b5e1293d8a36e0b",
       "version_major": 2,
       "version_minor": 0
      },
      "text/plain": [
       "  0%|          | 0/87 [00:00<?, ?it/s]"
      ]
     },
     "metadata": {},
     "output_type": "display_data"
    },
    {
     "name": "stderr",
     "output_type": "stream",
     "text": [
      "INFO:prophet:Disabling weekly seasonality. Run prophet with weekly_seasonality=True to override this.\n",
      "INFO:prophet:Disabling daily seasonality. Run prophet with daily_seasonality=True to override this.\n",
      "INFO:prophet:Making 87 forecasts with cutoffs between 1977-10-18 00:00:00 and 2020-03-06 00:00:00\n"
     ]
    },
    {
     "name": "stdout",
     "output_type": "stream",
     "text": [
      "Regression model mape:2.43\n"
     ]
    },
    {
     "data": {
      "application/vnd.jupyter.widget-view+json": {
       "model_id": "2efae77d5a884f82bf2d07ef7d4bfed2",
       "version_major": 2,
       "version_minor": 0
      },
      "text/plain": [
       "  0%|          | 0/87 [00:00<?, ?it/s]"
      ]
     },
     "metadata": {},
     "output_type": "display_data"
    },
    {
     "name": "stderr",
     "output_type": "stream",
     "text": [
      "INFO:prophet:Disabling weekly seasonality. Run prophet with weekly_seasonality=True to override this.\n",
      "INFO:prophet:Disabling daily seasonality. Run prophet with daily_seasonality=True to override this.\n",
      "INFO:prophet:Making 88 forecasts with cutoffs between 1977-04-21 00:00:00 and 2020-03-06 00:00:00\n"
     ]
    },
    {
     "name": "stdout",
     "output_type": "stream",
     "text": [
      "StandardScaler Regression model mape:2.53\n"
     ]
    },
    {
     "data": {
      "application/vnd.jupyter.widget-view+json": {
       "model_id": "f5daaa1d362c490bae22a7d44cea7b95",
       "version_major": 2,
       "version_minor": 0
      },
      "text/plain": [
       "  0%|          | 0/88 [00:00<?, ?it/s]"
      ]
     },
     "metadata": {},
     "output_type": "display_data"
    },
    {
     "name": "stderr",
     "output_type": "stream",
     "text": [
      "INFO:prophet:Disabling weekly seasonality. Run prophet with weekly_seasonality=True to override this.\n",
      "INFO:prophet:Disabling daily seasonality. Run prophet with daily_seasonality=True to override this.\n",
      "INFO:prophet:Making 87 forecasts with cutoffs between 1977-10-18 00:00:00 and 2020-03-06 00:00:00\n"
     ]
    },
    {
     "name": "stdout",
     "output_type": "stream",
     "text": [
      "Logistic Kernel model mape:1.34\n"
     ]
    },
    {
     "data": {
      "application/vnd.jupyter.widget-view+json": {
       "model_id": "56094bcdf1fc41b791d64a776995fec9",
       "version_major": 2,
       "version_minor": 0
      },
      "text/plain": [
       "  0%|          | 0/87 [00:00<?, ?it/s]"
      ]
     },
     "metadata": {},
     "output_type": "display_data"
    },
    {
     "name": "stderr",
     "output_type": "stream",
     "text": [
      "INFO:prophet:Disabling weekly seasonality. Run prophet with weekly_seasonality=True to override this.\n",
      "INFO:prophet:Disabling daily seasonality. Run prophet with daily_seasonality=True to override this.\n",
      "INFO:prophet:Making 88 forecasts with cutoffs between 1977-04-21 00:00:00 and 2020-03-06 00:00:00\n"
     ]
    },
    {
     "name": "stdout",
     "output_type": "stream",
     "text": [
      "Regression + Logistic Kernel model mape:1.45\n"
     ]
    },
    {
     "data": {
      "application/vnd.jupyter.widget-view+json": {
       "model_id": "947cdf838811441cad313a28eb22354e",
       "version_major": 2,
       "version_minor": 0
      },
      "text/plain": [
       "  0%|          | 0/88 [00:00<?, ?it/s]"
      ]
     },
     "metadata": {},
     "output_type": "display_data"
    },
    {
     "name": "stderr",
     "output_type": "stream",
     "text": [
      "INFO:prophet:Disabling weekly seasonality. Run prophet with weekly_seasonality=True to override this.\n",
      "INFO:prophet:Disabling daily seasonality. Run prophet with daily_seasonality=True to override this.\n"
     ]
    },
    {
     "name": "stdout",
     "output_type": "stream",
     "text": [
      "Basic univariable mape:1.53\n"
     ]
    },
    {
     "name": "stderr",
     "output_type": "stream",
     "text": [
      "INFO:prophet:Making 87 forecasts with cutoffs between 1977-10-18 00:00:00 and 2020-03-06 00:00:00\n"
     ]
    },
    {
     "data": {
      "application/vnd.jupyter.widget-view+json": {
       "model_id": "277631d1077e4b6ab0490b75e496e166",
       "version_major": 2,
       "version_minor": 0
      },
      "text/plain": [
       "  0%|          | 0/87 [00:00<?, ?it/s]"
      ]
     },
     "metadata": {},
     "output_type": "display_data"
    },
    {
     "name": "stderr",
     "output_type": "stream",
     "text": [
      "INFO:prophet:Disabling weekly seasonality. Run prophet with weekly_seasonality=True to override this.\n",
      "INFO:prophet:Disabling daily seasonality. Run prophet with daily_seasonality=True to override this.\n",
      "INFO:prophet:Making 87 forecasts with cutoffs between 1977-10-18 00:00:00 and 2020-03-06 00:00:00\n"
     ]
    },
    {
     "name": "stdout",
     "output_type": "stream",
     "text": [
      "Regression model mape:2.41\n"
     ]
    },
    {
     "data": {
      "application/vnd.jupyter.widget-view+json": {
       "model_id": "db0a79bcbe374ea8a2184a81d2652163",
       "version_major": 2,
       "version_minor": 0
      },
      "text/plain": [
       "  0%|          | 0/87 [00:00<?, ?it/s]"
      ]
     },
     "metadata": {},
     "output_type": "display_data"
    },
    {
     "name": "stderr",
     "output_type": "stream",
     "text": [
      "INFO:prophet:Disabling weekly seasonality. Run prophet with weekly_seasonality=True to override this.\n",
      "INFO:prophet:Disabling daily seasonality. Run prophet with daily_seasonality=True to override this.\n",
      "INFO:prophet:Making 88 forecasts with cutoffs between 1977-04-21 00:00:00 and 2020-03-06 00:00:00\n"
     ]
    },
    {
     "name": "stdout",
     "output_type": "stream",
     "text": [
      "StandardScaler Regression model mape:2.38\n"
     ]
    },
    {
     "data": {
      "application/vnd.jupyter.widget-view+json": {
       "model_id": "9c871a5214854dafab643f65b9033b7b",
       "version_major": 2,
       "version_minor": 0
      },
      "text/plain": [
       "  0%|          | 0/88 [00:00<?, ?it/s]"
      ]
     },
     "metadata": {},
     "output_type": "display_data"
    },
    {
     "name": "stderr",
     "output_type": "stream",
     "text": [
      "INFO:prophet:Disabling weekly seasonality. Run prophet with weekly_seasonality=True to override this.\n",
      "INFO:prophet:Disabling daily seasonality. Run prophet with daily_seasonality=True to override this.\n",
      "INFO:prophet:Making 87 forecasts with cutoffs between 1977-10-18 00:00:00 and 2020-03-06 00:00:00\n"
     ]
    },
    {
     "name": "stdout",
     "output_type": "stream",
     "text": [
      "Logistic Kernel model mape:1.46\n"
     ]
    },
    {
     "data": {
      "application/vnd.jupyter.widget-view+json": {
       "model_id": "b3d99feef58a4e3ab3dc011239165fb1",
       "version_major": 2,
       "version_minor": 0
      },
      "text/plain": [
       "  0%|          | 0/87 [00:00<?, ?it/s]"
      ]
     },
     "metadata": {},
     "output_type": "display_data"
    },
    {
     "name": "stdout",
     "output_type": "stream",
     "text": [
      "Regression + Logistic Kernel model mape:1.55\n"
     ]
    }
   ],
   "source": [
    "for i in [one_month,two_month,three_month,four_month,\n",
    "          five_month,six_month,seven_month,eight_month,nine_month]:\n",
    "    run_dump_model(*i)"
   ]
  },
  {
   "cell_type": "code",
   "execution_count": null,
   "id": "62dffe32",
   "metadata": {},
   "outputs": [],
   "source": []
  },
  {
   "cell_type": "code",
   "execution_count": null,
   "id": "a96d9faf",
   "metadata": {},
   "outputs": [],
   "source": []
  },
  {
   "cell_type": "code",
   "execution_count": 119,
   "id": "a0b5de21",
   "metadata": {},
   "outputs": [
    {
     "data": {
      "text/html": [
       "<div>\n",
       "<style scoped>\n",
       "    .dataframe tbody tr th:only-of-type {\n",
       "        vertical-align: middle;\n",
       "    }\n",
       "\n",
       "    .dataframe tbody tr th {\n",
       "        vertical-align: top;\n",
       "    }\n",
       "\n",
       "    .dataframe thead th {\n",
       "        text-align: right;\n",
       "    }\n",
       "</style>\n",
       "<table border=\"1\" class=\"dataframe\">\n",
       "  <thead>\n",
       "    <tr style=\"text-align: right;\">\n",
       "      <th></th>\n",
       "      <th>horizon</th>\n",
       "      <th>mse</th>\n",
       "      <th>rmse</th>\n",
       "      <th>mae</th>\n",
       "      <th>mape</th>\n",
       "      <th>mdape</th>\n",
       "      <th>smape</th>\n",
       "      <th>coverage</th>\n",
       "    </tr>\n",
       "  </thead>\n",
       "  <tbody>\n",
       "    <tr>\n",
       "      <th>0</th>\n",
       "      <td>1</td>\n",
       "      <td>0.268654</td>\n",
       "      <td>0.518319</td>\n",
       "      <td>0.250552</td>\n",
       "      <td>4.485375</td>\n",
       "      <td>1.032251</td>\n",
       "      <td>1.345946</td>\n",
       "      <td>0.724490</td>\n",
       "    </tr>\n",
       "    <tr>\n",
       "      <th>1</th>\n",
       "      <td>2</td>\n",
       "      <td>0.429959</td>\n",
       "      <td>0.655712</td>\n",
       "      <td>0.290343</td>\n",
       "      <td>2.793378</td>\n",
       "      <td>1.018619</td>\n",
       "      <td>1.371282</td>\n",
       "      <td>0.734694</td>\n",
       "    </tr>\n",
       "    <tr>\n",
       "      <th>2</th>\n",
       "      <td>3</td>\n",
       "      <td>0.283004</td>\n",
       "      <td>0.531981</td>\n",
       "      <td>0.282314</td>\n",
       "      <td>2.111271</td>\n",
       "      <td>1.014305</td>\n",
       "      <td>1.393683</td>\n",
       "      <td>0.653061</td>\n",
       "    </tr>\n",
       "    <tr>\n",
       "      <th>3</th>\n",
       "      <td>4</td>\n",
       "      <td>0.304222</td>\n",
       "      <td>0.551563</td>\n",
       "      <td>0.297259</td>\n",
       "      <td>2.009763</td>\n",
       "      <td>1.033186</td>\n",
       "      <td>1.422348</td>\n",
       "      <td>0.622449</td>\n",
       "    </tr>\n",
       "    <tr>\n",
       "      <th>4</th>\n",
       "      <td>5</td>\n",
       "      <td>0.293695</td>\n",
       "      <td>0.541937</td>\n",
       "      <td>0.292002</td>\n",
       "      <td>11.914070</td>\n",
       "      <td>1.103263</td>\n",
       "      <td>1.453125</td>\n",
       "      <td>0.612245</td>\n",
       "    </tr>\n",
       "    <tr>\n",
       "      <th>5</th>\n",
       "      <td>6</td>\n",
       "      <td>0.270349</td>\n",
       "      <td>0.519951</td>\n",
       "      <td>0.272291</td>\n",
       "      <td>2.239705</td>\n",
       "      <td>1.082883</td>\n",
       "      <td>1.427429</td>\n",
       "      <td>0.663265</td>\n",
       "    </tr>\n",
       "    <tr>\n",
       "      <th>6</th>\n",
       "      <td>7</td>\n",
       "      <td>0.254296</td>\n",
       "      <td>0.504278</td>\n",
       "      <td>0.257949</td>\n",
       "      <td>4.815805</td>\n",
       "      <td>1.061725</td>\n",
       "      <td>1.405532</td>\n",
       "      <td>0.704082</td>\n",
       "    </tr>\n",
       "    <tr>\n",
       "      <th>7</th>\n",
       "      <td>8</td>\n",
       "      <td>0.267511</td>\n",
       "      <td>0.517214</td>\n",
       "      <td>0.275569</td>\n",
       "      <td>3.033553</td>\n",
       "      <td>1.071781</td>\n",
       "      <td>1.475481</td>\n",
       "      <td>0.653061</td>\n",
       "    </tr>\n",
       "    <tr>\n",
       "      <th>8</th>\n",
       "      <td>9</td>\n",
       "      <td>0.286103</td>\n",
       "      <td>0.534886</td>\n",
       "      <td>0.289956</td>\n",
       "      <td>2.134263</td>\n",
       "      <td>1.067842</td>\n",
       "      <td>1.446899</td>\n",
       "      <td>0.602041</td>\n",
       "    </tr>\n",
       "    <tr>\n",
       "      <th>9</th>\n",
       "      <td>10</td>\n",
       "      <td>0.314953</td>\n",
       "      <td>0.561207</td>\n",
       "      <td>0.316714</td>\n",
       "      <td>2.209043</td>\n",
       "      <td>1.150039</td>\n",
       "      <td>1.501397</td>\n",
       "      <td>0.581633</td>\n",
       "    </tr>\n",
       "    <tr>\n",
       "      <th>10</th>\n",
       "      <td>11</td>\n",
       "      <td>0.291886</td>\n",
       "      <td>0.540265</td>\n",
       "      <td>0.296819</td>\n",
       "      <td>12.053916</td>\n",
       "      <td>1.127964</td>\n",
       "      <td>1.479206</td>\n",
       "      <td>0.612245</td>\n",
       "    </tr>\n",
       "    <tr>\n",
       "      <th>11</th>\n",
       "      <td>12</td>\n",
       "      <td>0.127663</td>\n",
       "      <td>0.357300</td>\n",
       "      <td>0.254456</td>\n",
       "      <td>2.457947</td>\n",
       "      <td>1.094009</td>\n",
       "      <td>1.423306</td>\n",
       "      <td>0.634146</td>\n",
       "    </tr>\n",
       "  </tbody>\n",
       "</table>\n",
       "</div>"
      ],
      "text/plain": [
       "    horizon       mse      rmse       mae       mape     mdape     smape  \\\n",
       "0         1  0.268654  0.518319  0.250552   4.485375  1.032251  1.345946   \n",
       "1         2  0.429959  0.655712  0.290343   2.793378  1.018619  1.371282   \n",
       "2         3  0.283004  0.531981  0.282314   2.111271  1.014305  1.393683   \n",
       "3         4  0.304222  0.551563  0.297259   2.009763  1.033186  1.422348   \n",
       "4         5  0.293695  0.541937  0.292002  11.914070  1.103263  1.453125   \n",
       "5         6  0.270349  0.519951  0.272291   2.239705  1.082883  1.427429   \n",
       "6         7  0.254296  0.504278  0.257949   4.815805  1.061725  1.405532   \n",
       "7         8  0.267511  0.517214  0.275569   3.033553  1.071781  1.475481   \n",
       "8         9  0.286103  0.534886  0.289956   2.134263  1.067842  1.446899   \n",
       "9        10  0.314953  0.561207  0.316714   2.209043  1.150039  1.501397   \n",
       "10       11  0.291886  0.540265  0.296819  12.053916  1.127964  1.479206   \n",
       "11       12  0.127663  0.357300  0.254456   2.457947  1.094009  1.423306   \n",
       "\n",
       "    coverage  \n",
       "0   0.724490  \n",
       "1   0.734694  \n",
       "2   0.653061  \n",
       "3   0.622449  \n",
       "4   0.612245  \n",
       "5   0.663265  \n",
       "6   0.704082  \n",
       "7   0.653061  \n",
       "8   0.602041  \n",
       "9   0.581633  \n",
       "10  0.612245  \n",
       "11  0.634146  "
      ]
     },
     "execution_count": 119,
     "metadata": {},
     "output_type": "execute_result"
    }
   ],
   "source": [
    "with open(\"temp.json\", 'r') as j:\n",
    "     contents = json.loads(j.read())\n",
    "pd.DataFrame(eval(contents['Basic']))"
   ]
  },
  {
   "cell_type": "code",
   "execution_count": null,
   "id": "a157ce57",
   "metadata": {},
   "outputs": [],
   "source": []
  },
  {
   "cell_type": "code",
   "execution_count": null,
   "id": "23243450",
   "metadata": {},
   "outputs": [],
   "source": []
  }
 ],
 "metadata": {
  "kernelspec": {
   "display_name": "Python 3",
   "language": "python",
   "name": "python3"
  },
  "language_info": {
   "codemirror_mode": {
    "name": "ipython",
    "version": 3
   },
   "file_extension": ".py",
   "mimetype": "text/x-python",
   "name": "python",
   "nbconvert_exporter": "python",
   "pygments_lexer": "ipython3",
   "version": "3.8.5"
  }
 },
 "nbformat": 4,
 "nbformat_minor": 5
}
